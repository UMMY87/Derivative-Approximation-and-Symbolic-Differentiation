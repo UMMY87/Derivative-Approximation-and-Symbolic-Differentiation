{
 "cells": [
  {
   "cell_type": "code",
   "execution_count": 2,
   "metadata": {},
   "outputs": [
    {
     "name": "stdout",
     "output_type": "stream",
     "text": [
      "Defaulting to user installation because normal site-packages is not writeable\n",
      "Collecting sympy\n",
      "  Downloading sympy-1.12-py3-none-any.whl.metadata (12 kB)\n",
      "Collecting mpmath>=0.19 (from sympy)\n",
      "  Downloading mpmath-1.3.0-py3-none-any.whl.metadata (8.6 kB)\n",
      "Downloading sympy-1.12-py3-none-any.whl (5.7 MB)\n",
      "   ---------------------------------------- 0.0/5.7 MB ? eta -:--:--\n",
      "   ---------------------------------------- 0.0/5.7 MB ? eta -:--:--\n",
      "   ---------------------------------------- 0.0/5.7 MB 660.6 kB/s eta 0:00:09\n",
      "   ---------------------------------------- 0.0/5.7 MB 660.6 kB/s eta 0:00:09\n",
      "   ---------------------------------------- 0.0/5.7 MB 660.6 kB/s eta 0:00:09\n",
      "   ---------------------------------------- 0.1/5.7 MB 272.3 kB/s eta 0:00:21\n",
      "    --------------------------------------- 0.1/5.7 MB 350.1 kB/s eta 0:00:17\n",
      "    --------------------------------------- 0.1/5.7 MB 350.1 kB/s eta 0:00:17\n",
      "    --------------------------------------- 0.1/5.7 MB 327.2 kB/s eta 0:00:18\n",
      "    --------------------------------------- 0.1/5.7 MB 355.0 kB/s eta 0:00:16\n",
      "   - -------------------------------------- 0.2/5.7 MB 392.8 kB/s eta 0:00:15\n",
      "   - -------------------------------------- 0.2/5.7 MB 392.8 kB/s eta 0:00:15\n",
      "   - -------------------------------------- 0.2/5.7 MB 357.2 kB/s eta 0:00:16\n",
      "   - -------------------------------------- 0.3/5.7 MB 436.5 kB/s eta 0:00:13\n",
      "   - -------------------------------------- 0.3/5.7 MB 478.3 kB/s eta 0:00:12\n",
      "   -- ------------------------------------- 0.3/5.7 MB 463.3 kB/s eta 0:00:12\n",
      "   -- ------------------------------------- 0.4/5.7 MB 509.8 kB/s eta 0:00:11\n",
      "   --- ------------------------------------ 0.4/5.7 MB 585.9 kB/s eta 0:00:10\n",
      "   --- ------------------------------------ 0.4/5.7 MB 585.9 kB/s eta 0:00:10\n",
      "   --- ------------------------------------ 0.6/5.7 MB 667.3 kB/s eta 0:00:08\n",
      "   ---- ----------------------------------- 0.7/5.7 MB 770.0 kB/s eta 0:00:07\n",
      "   ----- ---------------------------------- 0.9/5.7 MB 906.1 kB/s eta 0:00:06\n",
      "   ------ --------------------------------- 0.9/5.7 MB 936.6 kB/s eta 0:00:06\n",
      "   ------- -------------------------------- 1.0/5.7 MB 973.3 kB/s eta 0:00:05\n",
      "   ------- -------------------------------- 1.1/5.7 MB 1.0 MB/s eta 0:00:05\n",
      "   -------- ------------------------------- 1.2/5.7 MB 1.0 MB/s eta 0:00:05\n",
      "   --------- ------------------------------ 1.3/5.7 MB 1.1 MB/s eta 0:00:04\n",
      "   ---------- ----------------------------- 1.5/5.7 MB 1.2 MB/s eta 0:00:04\n",
      "   ----------- ---------------------------- 1.6/5.7 MB 1.3 MB/s eta 0:00:04\n",
      "   ----------- ---------------------------- 1.7/5.7 MB 1.3 MB/s eta 0:00:04\n",
      "   ------------ --------------------------- 1.8/5.7 MB 1.3 MB/s eta 0:00:03\n",
      "   ------------ --------------------------- 1.9/5.7 MB 1.3 MB/s eta 0:00:03\n",
      "   ------------- -------------------------- 2.0/5.7 MB 1.4 MB/s eta 0:00:03\n",
      "   --------------- ------------------------ 2.2/5.7 MB 1.4 MB/s eta 0:00:03\n",
      "   ---------------- ----------------------- 2.4/5.7 MB 1.5 MB/s eta 0:00:03\n",
      "   ----------------- ---------------------- 2.5/5.7 MB 1.5 MB/s eta 0:00:03\n",
      "   ----------------- ---------------------- 2.5/5.7 MB 1.5 MB/s eta 0:00:03\n",
      "   ------------------ --------------------- 2.7/5.7 MB 1.6 MB/s eta 0:00:02\n",
      "   ------------------- -------------------- 2.8/5.7 MB 1.6 MB/s eta 0:00:02\n",
      "   -------------------- ------------------- 3.0/5.7 MB 1.7 MB/s eta 0:00:02\n",
      "   --------------------- ------------------ 3.1/5.7 MB 1.7 MB/s eta 0:00:02\n",
      "   ---------------------- ----------------- 3.2/5.7 MB 1.7 MB/s eta 0:00:02\n",
      "   ----------------------- ---------------- 3.4/5.7 MB 1.8 MB/s eta 0:00:02\n",
      "   ------------------------ --------------- 3.5/5.7 MB 1.8 MB/s eta 0:00:02\n",
      "   ------------------------- -------------- 3.7/5.7 MB 1.8 MB/s eta 0:00:02\n",
      "   --------------------------- ------------ 3.9/5.7 MB 1.9 MB/s eta 0:00:01\n",
      "   --------------------------- ------------ 4.0/5.7 MB 1.9 MB/s eta 0:00:01\n",
      "   ---------------------------- ----------- 4.1/5.7 MB 1.9 MB/s eta 0:00:01\n",
      "   ------------------------------ --------- 4.3/5.7 MB 2.0 MB/s eta 0:00:01\n",
      "   ------------------------------- -------- 4.5/5.7 MB 2.0 MB/s eta 0:00:01\n",
      "   -------------------------------- ------- 4.6/5.7 MB 2.0 MB/s eta 0:00:01\n",
      "   --------------------------------- ------ 4.8/5.7 MB 2.0 MB/s eta 0:00:01\n",
      "   ---------------------------------- ----- 4.9/5.7 MB 2.1 MB/s eta 0:00:01\n",
      "   ----------------------------------- ---- 5.1/5.7 MB 2.1 MB/s eta 0:00:01\n",
      "   ------------------------------------ --- 5.3/5.7 MB 2.1 MB/s eta 0:00:01\n",
      "   -------------------------------------- - 5.5/5.7 MB 2.2 MB/s eta 0:00:01\n",
      "   ---------------------------------------  5.6/5.7 MB 2.2 MB/s eta 0:00:01\n",
      "   ---------------------------------------  5.7/5.7 MB 2.2 MB/s eta 0:00:01\n",
      "   ---------------------------------------- 5.7/5.7 MB 2.2 MB/s eta 0:00:00\n",
      "Downloading mpmath-1.3.0-py3-none-any.whl (536 kB)\n",
      "   ---------------------------------------- 0.0/536.2 kB ? eta -:--:--\n",
      "   ------------ --------------------------- 174.1/536.2 kB 3.6 MB/s eta 0:00:01\n",
      "   ------------------------ --------------- 327.7/536.2 kB 3.4 MB/s eta 0:00:01\n",
      "   ------------------------------------ --- 491.5/536.2 kB 4.4 MB/s eta 0:00:01\n",
      "   ------------------------------------ --- 491.5/536.2 kB 4.4 MB/s eta 0:00:01\n",
      "   ------------------------------------ --- 491.5/536.2 kB 4.4 MB/s eta 0:00:01\n",
      "   ------------------------------------ --- 491.5/536.2 kB 4.4 MB/s eta 0:00:01\n",
      "   ------------------------------------ --- 491.5/536.2 kB 4.4 MB/s eta 0:00:01\n",
      "   ------------------------------------ --- 491.5/536.2 kB 4.4 MB/s eta 0:00:01\n",
      "   ------------------------------------ --- 491.5/536.2 kB 4.4 MB/s eta 0:00:01\n",
      "   ------------------------------------ --- 491.5/536.2 kB 4.4 MB/s eta 0:00:01\n",
      "   ------------------------------------ --- 491.5/536.2 kB 4.4 MB/s eta 0:00:01\n",
      "   ------------------------------------ --- 491.5/536.2 kB 4.4 MB/s eta 0:00:01\n",
      "   ------------------------------------ --- 491.5/536.2 kB 4.4 MB/s eta 0:00:01\n",
      "   ------------------------------------ --- 491.5/536.2 kB 4.4 MB/s eta 0:00:01\n",
      "   ------------------------------------ --- 491.5/536.2 kB 4.4 MB/s eta 0:00:01\n",
      "   ------------------------------------ --- 491.5/536.2 kB 4.4 MB/s eta 0:00:01\n",
      "   ------------------------------------ --- 491.5/536.2 kB 4.4 MB/s eta 0:00:01\n",
      "   ----------------------------------- -- 501.8/536.2 kB 617.5 kB/s eta 0:00:01\n",
      "   ----------------------------------- -- 501.8/536.2 kB 617.5 kB/s eta 0:00:01\n",
      "   ----------------------------------- -- 501.8/536.2 kB 617.5 kB/s eta 0:00:01\n",
      "   ----------------------------------- -- 501.8/536.2 kB 617.5 kB/s eta 0:00:01\n",
      "   -------------------------------------- 536.2/536.2 kB 526.0 kB/s eta 0:00:00\n",
      "Installing collected packages: mpmath, sympy\n",
      "Successfully installed mpmath-1.3.0 sympy-1.12\n",
      "Note: you may need to restart the kernel to use updated packages.\n"
     ]
    }
   ],
   "source": [
    "pip install sympy"
   ]
  },
  {
   "cell_type": "code",
   "execution_count": 3,
   "metadata": {},
   "outputs": [],
   "source": [
    "from sympy import symbols, diff"
   ]
  },
  {
   "cell_type": "code",
   "execution_count": 4,
   "metadata": {},
   "outputs": [
    {
     "name": "stdout",
     "output_type": "stream",
     "text": [
      "J = 9, J_epsilon = 9.006001, dJ_dw ~= k = 6.001000 \n"
     ]
    }
   ],
   "source": [
    "J = (3)**2\n",
    "J_epsilon = (3 + 0.001)**2\n",
    "k = (J_epsilon - J)/0.001    # difference divided by epsilon\n",
    "print(f\"J = {J}, J_epsilon = {J_epsilon}, dJ_dw ~= k = {k:0.6f} \")"
   ]
  },
  {
   "cell_type": "code",
   "execution_count": 5,
   "metadata": {},
   "outputs": [
    {
     "name": "stdout",
     "output_type": "stream",
     "text": [
      "J = 9, J_epsilon = 9.000000006, dJ_dw ~= k = 6.000000496442226 \n"
     ]
    }
   ],
   "source": [
    "J = (3)**2\n",
    "J_epsilon = (3 + 0.000000001)**2\n",
    "k = (J_epsilon - J)/0.000000001\n",
    "print(f\"J = {J}, J_epsilon = {J_epsilon}, dJ_dw ~= k = {k} \")"
   ]
  },
  {
   "cell_type": "code",
   "execution_count": 6,
   "metadata": {},
   "outputs": [],
   "source": [
    "J, w = symbols('J, w')"
   ]
  },
  {
   "cell_type": "code",
   "execution_count": 7,
   "metadata": {},
   "outputs": [
    {
     "data": {
      "text/latex": [
       "$\\displaystyle w^{2}$"
      ],
      "text/plain": [
       "w**2"
      ]
     },
     "execution_count": 7,
     "metadata": {},
     "output_type": "execute_result"
    }
   ],
   "source": [
    "J=w**2\n",
    "J"
   ]
  },
  {
   "cell_type": "code",
   "execution_count": 8,
   "metadata": {},
   "outputs": [
    {
     "data": {
      "text/latex": [
       "$\\displaystyle 2 w$"
      ],
      "text/plain": [
       "2*w"
      ]
     },
     "execution_count": 8,
     "metadata": {},
     "output_type": "execute_result"
    }
   ],
   "source": [
    "dJ_dw = diff(J,w)\n",
    "dJ_dw"
   ]
  },
  {
   "cell_type": "code",
   "execution_count": 9,
   "metadata": {},
   "outputs": [
    {
     "data": {
      "text/latex": [
       "$\\displaystyle 4$"
      ],
      "text/plain": [
       "4"
      ]
     },
     "execution_count": 9,
     "metadata": {},
     "output_type": "execute_result"
    }
   ],
   "source": [
    "dJ_dw.subs([(w,2)])    # derivative at the point w = 2"
   ]
  },
  {
   "cell_type": "code",
   "execution_count": 10,
   "metadata": {},
   "outputs": [
    {
     "data": {
      "text/latex": [
       "$\\displaystyle 6$"
      ],
      "text/plain": [
       "6"
      ]
     },
     "execution_count": 10,
     "metadata": {},
     "output_type": "execute_result"
    }
   ],
   "source": [
    "dJ_dw.subs([(w,3)])    # derivative at the point w = 3"
   ]
  },
  {
   "cell_type": "code",
   "execution_count": 11,
   "metadata": {},
   "outputs": [
    {
     "data": {
      "text/latex": [
       "$\\displaystyle -6$"
      ],
      "text/plain": [
       "-6"
      ]
     },
     "execution_count": 11,
     "metadata": {},
     "output_type": "execute_result"
    }
   ],
   "source": [
    "dJ_dw.subs([(w,-3)])    # derivative at the point w = -3"
   ]
  },
  {
   "cell_type": "code",
   "execution_count": 12,
   "metadata": {},
   "outputs": [],
   "source": [
    "w, J = symbols('w, J')"
   ]
  },
  {
   "cell_type": "code",
   "execution_count": 13,
   "metadata": {},
   "outputs": [
    {
     "data": {
      "text/latex": [
       "$\\displaystyle 2 w$"
      ],
      "text/plain": [
       "2*w"
      ]
     },
     "execution_count": 13,
     "metadata": {},
     "output_type": "execute_result"
    }
   ],
   "source": [
    "J = 2 * w\n",
    "J"
   ]
  },
  {
   "cell_type": "code",
   "execution_count": 14,
   "metadata": {},
   "outputs": [
    {
     "data": {
      "text/latex": [
       "$\\displaystyle 2$"
      ],
      "text/plain": [
       "2"
      ]
     },
     "execution_count": 14,
     "metadata": {},
     "output_type": "execute_result"
    }
   ],
   "source": [
    "dJ_dw = diff(J,w)\n",
    "dJ_dw"
   ]
  },
  {
   "cell_type": "code",
   "execution_count": 15,
   "metadata": {},
   "outputs": [
    {
     "data": {
      "text/latex": [
       "$\\displaystyle 2$"
      ],
      "text/plain": [
       "2"
      ]
     },
     "execution_count": 15,
     "metadata": {},
     "output_type": "execute_result"
    }
   ],
   "source": [
    "dJ_dw.subs([(w,-3)])    # derivative at the point w = -3"
   ]
  },
  {
   "cell_type": "code",
   "execution_count": 16,
   "metadata": {},
   "outputs": [
    {
     "name": "stdout",
     "output_type": "stream",
     "text": [
      "J = 6, J_epsilon = 6.002, dJ_dw ~= k = 1.9999999999997797 \n"
     ]
    }
   ],
   "source": [
    "J = 2*3\n",
    "J_epsilon = 2*(3 + 0.001)\n",
    "k = (J_epsilon - J)/0.001\n",
    "print(f\"J = {J}, J_epsilon = {J_epsilon}, dJ_dw ~= k = {k} \")"
   ]
  },
  {
   "cell_type": "code",
   "execution_count": 17,
   "metadata": {},
   "outputs": [],
   "source": [
    "J, w = symbols('J, w')"
   ]
  },
  {
   "cell_type": "code",
   "execution_count": 18,
   "metadata": {},
   "outputs": [
    {
     "data": {
      "text/latex": [
       "$\\displaystyle w^{3}$"
      ],
      "text/plain": [
       "w**3"
      ]
     },
     "execution_count": 18,
     "metadata": {},
     "output_type": "execute_result"
    }
   ],
   "source": [
    "J=w**3\n",
    "J"
   ]
  },
  {
   "cell_type": "code",
   "execution_count": 19,
   "metadata": {},
   "outputs": [
    {
     "data": {
      "text/latex": [
       "$\\displaystyle 3 w^{2}$"
      ],
      "text/plain": [
       "3*w**2"
      ]
     },
     "execution_count": 19,
     "metadata": {},
     "output_type": "execute_result"
    }
   ],
   "source": [
    "dJ_dw = diff(J,w)\n",
    "dJ_dw"
   ]
  },
  {
   "cell_type": "code",
   "execution_count": 20,
   "metadata": {},
   "outputs": [
    {
     "data": {
      "text/latex": [
       "$\\displaystyle 12$"
      ],
      "text/plain": [
       "12"
      ]
     },
     "execution_count": 20,
     "metadata": {},
     "output_type": "execute_result"
    }
   ],
   "source": [
    "dJ_dw.subs([(w,2)])   # derivative at the point w=2"
   ]
  },
  {
   "cell_type": "code",
   "execution_count": 21,
   "metadata": {},
   "outputs": [
    {
     "name": "stdout",
     "output_type": "stream",
     "text": [
      "J = 8, J_epsilon = 8.012006000999998, dJ_dw ~= k = 12.006000999997823 \n"
     ]
    }
   ],
   "source": [
    "J = (2)**3\n",
    "J_epsilon = (2+0.001)**3\n",
    "k = (J_epsilon - J)/0.001\n",
    "print(f\"J = {J}, J_epsilon = {J_epsilon}, dJ_dw ~= k = {k} \")"
   ]
  },
  {
   "cell_type": "code",
   "execution_count": 22,
   "metadata": {},
   "outputs": [],
   "source": [
    "J, w = symbols('J, w')"
   ]
  },
  {
   "cell_type": "code",
   "execution_count": 23,
   "metadata": {},
   "outputs": [
    {
     "data": {
      "text/latex": [
       "$\\displaystyle \\frac{1}{w}$"
      ],
      "text/plain": [
       "1/w"
      ]
     },
     "execution_count": 23,
     "metadata": {},
     "output_type": "execute_result"
    }
   ],
   "source": [
    "J= 1/w\n",
    "J"
   ]
  },
  {
   "cell_type": "code",
   "execution_count": 25,
   "metadata": {},
   "outputs": [
    {
     "data": {
      "text/latex": [
       "$\\displaystyle - \\frac{1}{w^{2}}$"
      ],
      "text/plain": [
       "-1/w**2"
      ]
     },
     "execution_count": 25,
     "metadata": {},
     "output_type": "execute_result"
    }
   ],
   "source": [
    "dJ_dw = diff(J,w)\n",
    "dJ_dw"
   ]
  },
  {
   "cell_type": "code",
   "execution_count": 26,
   "metadata": {},
   "outputs": [
    {
     "data": {
      "text/latex": [
       "$\\displaystyle - \\frac{1}{4}$"
      ],
      "text/plain": [
       "-1/4"
      ]
     },
     "execution_count": 26,
     "metadata": {},
     "output_type": "execute_result"
    }
   ],
   "source": [
    "dJ_dw.subs([(w,2)])"
   ]
  },
  {
   "cell_type": "code",
   "execution_count": 27,
   "metadata": {},
   "outputs": [
    {
     "name": "stdout",
     "output_type": "stream",
     "text": [
      "J = 0.5, J_epsilon = 0.49975012493753124, dJ_dw ~= k = -0.2498750624687629 \n"
     ]
    }
   ],
   "source": [
    "J = 1/2\n",
    "J_epsilon = 1/(2+0.001)\n",
    "k = (J_epsilon - J)/0.001\n",
    "print(f\"J = {J}, J_epsilon = {J_epsilon}, dJ_dw ~= k = {k} \")"
   ]
  },
  {
   "cell_type": "code",
   "execution_count": 28,
   "metadata": {},
   "outputs": [],
   "source": [
    "J, w = symbols('J, w')"
   ]
  },
  {
   "cell_type": "code",
   "execution_count": 30,
   "metadata": {},
   "outputs": [
    {
     "data": {
      "text/latex": [
       "$\\displaystyle \\frac{1}{w^{2}}$"
      ],
      "text/plain": [
       "w**(-2)"
      ]
     },
     "execution_count": 30,
     "metadata": {},
     "output_type": "execute_result"
    }
   ],
   "source": [
    "J= 1/(w**2)\n",
    "J"
   ]
  },
  {
   "cell_type": "code",
   "execution_count": 31,
   "metadata": {},
   "outputs": [
    {
     "data": {
      "text/latex": [
       "$\\displaystyle - \\frac{2}{w^{3}}$"
      ],
      "text/plain": [
       "-2/w**3"
      ]
     },
     "execution_count": 31,
     "metadata": {},
     "output_type": "execute_result"
    }
   ],
   "source": [
    "dJ_dw = diff(J,w)\n",
    "dJ_dw"
   ]
  },
  {
   "cell_type": "code",
   "execution_count": 32,
   "metadata": {},
   "outputs": [
    {
     "data": {
      "text/latex": [
       "$\\displaystyle - \\frac{1}{32}$"
      ],
      "text/plain": [
       "-1/32"
      ]
     },
     "execution_count": 32,
     "metadata": {},
     "output_type": "execute_result"
    }
   ],
   "source": [
    "dJ_dw.subs([(w,4)])"
   ]
  },
  {
   "cell_type": "code",
   "execution_count": 33,
   "metadata": {},
   "outputs": [
    {
     "name": "stdout",
     "output_type": "stream",
     "text": [
      "J = 0.0625, J_epsilon = 0.06246876171484496, dJ_dw ~= k = -0.031238285155041345 \n"
     ]
    }
   ],
   "source": [
    "J = 1/4**2\n",
    "J_epsilon = 1/(4+0.001)**2\n",
    "k = (J_epsilon - J)/0.001\n",
    "print(f\"J = {J}, J_epsilon = {J_epsilon}, dJ_dw ~= k = {k} \")"
   ]
  }
 ],
 "metadata": {
  "kernelspec": {
   "display_name": "Python 3",
   "language": "python",
   "name": "python3"
  },
  "language_info": {
   "codemirror_mode": {
    "name": "ipython",
    "version": 3
   },
   "file_extension": ".py",
   "mimetype": "text/x-python",
   "name": "python",
   "nbconvert_exporter": "python",
   "pygments_lexer": "ipython3",
   "version": "3.12.2"
  }
 },
 "nbformat": 4,
 "nbformat_minor": 2
}
